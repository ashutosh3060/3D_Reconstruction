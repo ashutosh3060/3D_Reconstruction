{
  "nbformat": 4,
  "nbformat_minor": 0,
  "metadata": {
    "colab": {
      "name": "camera-calibration.ipynb",
      "provenance": [],
      "collapsed_sections": [],
      "authorship_tag": "ABX9TyNmJ8fsKg9dOiubjtxu1WDi",
      "include_colab_link": true
    },
    "kernelspec": {
      "name": "python3",
      "display_name": "Python 3"
    },
    "language_info": {
      "name": "python"
    }
  },
  "cells": [
    {
      "cell_type": "markdown",
      "metadata": {
        "id": "view-in-github",
        "colab_type": "text"
      },
      "source": [
        "<a href=\"https://colab.research.google.com/github/ashutosh3060/3D_Reconstruction/blob/main/camera_calibration.ipynb\" target=\"_parent\"><img src=\"https://colab.research.google.com/assets/colab-badge.svg\" alt=\"Open In Colab\"/></a>"
      ]
    },
    {
      "cell_type": "markdown",
      "metadata": {
        "id": "_brhJsMEwPIO"
      },
      "source": [
        "### Import Dependencies"
      ]
    },
    {
      "cell_type": "code",
      "metadata": {
        "id": "scgQaYvxvaKQ"
      },
      "source": [
        "import numpy as np\n",
        "import cv2\n",
        "import glob"
      ],
      "execution_count": 1,
      "outputs": []
    },
    {
      "cell_type": "markdown",
      "metadata": {
        "id": "jEisvtP-wY9n"
      },
      "source": [
        "### Operation"
      ]
    },
    {
      "cell_type": "code",
      "metadata": {
        "id": "H9otMpYKwSi0"
      },
      "source": [
        "# termination criteria\n",
        "\n",
        "# Define the algorithm termination criteria (the maximum number of iterations and/or the desired accuracy):\n",
        "# In this case the maximum number of iterations is set to 30 and epsilon = 0.001\n",
        "criteria = (cv2.TERM_CRITERIA_EPS + cv2.TERM_CRITERIA_MAX_ITER, 30, 0.001)"
      ],
      "execution_count": 3,
      "outputs": []
    },
    {
      "cell_type": "code",
      "metadata": {
        "id": "KAHZvviIyRkr"
      },
      "source": [
        "# prepare object points, like (0,0,0), (1,0,0), (2,0,0) ....,(6,5,0)\n",
        "\n",
        "objp = np.zeros((6*7,3), np.float32) # create a matrix of (6*7) * 3 size of zeros\n",
        "objp[:,:2] = np.mgrid[0:7,0:6].T.reshape(-1,2) # create a meshgrid, transpose it and then create 2 columns without changing its data"
      ],
      "execution_count": 4,
      "outputs": []
    },
    {
      "cell_type": "code",
      "metadata": {
        "id": "P3_M4SSu24mc"
      },
      "source": [
        "# Arrays to store object points and image points from all the images.\n",
        "\n",
        "objpoints = [] # 3d point in real world space\n",
        "imgpoints = [] # 2d points in image plane."
      ],
      "execution_count": 5,
      "outputs": []
    },
    {
      "cell_type": "code",
      "metadata": {
        "id": "TZFDyG2t3CUR"
      },
      "source": [
        "# Find all the images with '.jpg' pattern\n",
        "images = glob.glob('*.jpg')   #pathnames matching a specified pattern"
      ],
      "execution_count": 6,
      "outputs": []
    },
    {
      "cell_type": "code",
      "metadata": {
        "id": "0QXivrHQsqPR"
      },
      "source": [
        "# Find chess-board corners and draw the board\n",
        "\n",
        "for fname in images:\n",
        "  img = cv2.imread() #read 1 by 1 image in a loop\n",
        "  gray = cv2.cvtColor(img, cv2.COLOR_BGR2GRAY) #convert color images to grayscale image\n",
        "\n",
        "  # Find the chess board corners:\n",
        "  ret, corners = cv2.findChessboardCorners(gray, (7,6), None)\n",
        "\n",
        "  # If found, add object points, image points (after refining them)\n",
        "  if ret == True:\n",
        "    objpoints.append(objp)\n",
        "\n",
        "    corners2 = cv2.cornerSubPix(gray, corners, (11,11), (-1,-1), criteria)\n",
        "    imgpoints.append(corners2)\n",
        "\n",
        "    # Draw and display the corners\n",
        "    cv2.drawChessboardCorners(img, (7,6), corners2, ret)\n",
        "    cv2.imshow('img', img)\n",
        "    cv2.waitKey(500)\n",
        "\n",
        "cv2.destroyAllWindows()"
      ],
      "execution_count": 12,
      "outputs": []
    },
    {
      "cell_type": "code",
      "metadata": {
        "id": "vQzQpAU53BfJ"
      },
      "source": [
        ""
      ],
      "execution_count": null,
      "outputs": []
    }
  ]
}